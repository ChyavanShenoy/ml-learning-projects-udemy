{
 "cells": [
  {
   "cell_type": "code",
   "metadata": {},
   "source": [
    "import matplotlib.pyplot as plt\n",
    "import numpy as np\n",
    "from scipy.misc import derivative"
   ],
   "outputs": [],
   "execution_count": null
  },
  {
   "cell_type": "markdown",
   "metadata": {},
   "source": [
    "## Cost Function\n",
    "\n",
    "Let's consider a simple cost function, $f(x) = x^2 + x + 1$."
   ]
  },
  {
   "cell_type": "code",
   "metadata": {},
   "source": [
    "def f(x):\n",
    "    return x**2 + x + 1"
   ],
   "outputs": [],
   "execution_count": null
  },
  {
   "cell_type": "code",
   "metadata": {},
   "source": [
    "# Generating data\n",
    "x_1 = np.linspace(start=-3, stop=3, num=500)"
   ],
   "outputs": [],
   "execution_count": null
  },
  {
   "cell_type": "code",
   "metadata": {},
   "source": [
    "plt.plot(x_1, f(x_1))\n",
    "plt.xlabel('x', fontsize=14)\n",
    "plt.ylabel('f(x)', fontsize=14)\n",
    "plt.style.use('ggplot')\n",
    "plt.show()"
   ],
   "outputs": [],
   "execution_count": null
  },
  {
   "cell_type": "markdown",
   "metadata": {},
   "source": [
    "- `Slope of the curve` at a given point is the `Cost`\n",
    "- `Slope of the function` will be `0`, at the point where the `cost is the lowest`\n",
    "- `Slope of the function` is given by `it's derivative`"
   ]
  },
  {
   "cell_type": "code",
   "metadata": {},
   "source": [
    "def df(x):\n",
    "    return 2*x + 1"
   ],
   "outputs": [],
   "execution_count": null
  },
  {
   "cell_type": "markdown",
   "metadata": {},
   "source": [
    "### Comparing the 2 functions."
   ]
  },
  {
   "cell_type": "code",
   "metadata": {},
   "source": [
    "plt.figure(figsize=[15.0, 5.0])\n",
    "\n",
    "# Plotting cost function -> f(x)\n",
    "plt.subplot(1, 2, 1)\n",
    "plt.plot(x_1, f(x_1), color='blue', linewidth=1)\n",
    "plt.title('Cost function', fontsize=17)\n",
    "plt.xlabel('x', fontsize=16)\n",
    "plt.ylabel('f(x)', fontsize=16)\n",
    "\n",
    "# Plotting derivative to the cost function -> Slope\n",
    "plt.subplot(1, 2, 2)\n",
    "\n",
    "plt.plot(x_1, df(x_1), color='skyblue', linewidth=1)\n",
    "plt.title('Slope of the cost function', fontsize=17)\n",
    "plt.xlabel('x', fontsize=16)\n",
    "plt.ylabel('df(x)', fontsize=16)\n",
    "\n",
    "plt.show()"
   ],
   "outputs": [],
   "execution_count": null
  },
  {
   "cell_type": "code",
   "metadata": {},
   "source": [
    "starting_point = 3\n",
    "temporary_value = 0\n",
    "learning_rate = 0.1\n",
    "precision = 0.00001\n",
    "\n",
    "x_list = [starting_point]\n",
    "slope_list = [df(starting_point)]"
   ],
   "outputs": [],
   "execution_count": null
  },
  {
   "cell_type": "code",
   "metadata": {},
   "source": [
    "for i in range(100000000):\n",
    "    temporary_value = starting_point\n",
    "    starting_point = starting_point - learning_rate * df(temporary_value)\n",
    "    x_list.append(starting_point)\n",
    "    slope_list.append(df(starting_point))\n",
    "    if abs(starting_point - temporary_value) < precision:\n",
    "        print(\"Local minimum is at: \", starting_point)\n",
    "        print(\"Number of steps: \", i)\n",
    "        break"
   ],
   "outputs": [],
   "execution_count": null
  },
  {
   "cell_type": "code",
   "metadata": {},
   "source": [
    "print(\"The local minimum occurs at: \", starting_point)\n",
    "print(\"The cost is: \", f(starting_point))\n",
    "print(\"The slope is: \", df(starting_point))"
   ],
   "outputs": [],
   "execution_count": null
  },
  {
   "cell_type": "code",
   "metadata": {},
   "source": [
    "plt.figure(figsize=[20, 5])\n",
    "\n",
    "# Plotting cost function -> f(x)\n",
    "plt.subplot(1, 3, 1)\n",
    "plt.plot(x_1, f(x_1), color='blue', linewidth=1)\n",
    "plt.title('Cost function', fontsize=17)\n",
    "plt.xlabel('x', fontsize=16)\n",
    "plt.ylabel('f(x)', fontsize=16)\n",
    "plt.xlim(-3, 3)\n",
    "plt.ylim(0, 8)\n",
    "\n",
    "values = np.array(x_list)\n",
    "\n",
    "plt.subplot(1, 3, 2)\n",
    "plt.plot(x_1, f(x_1), color='blue', linewidth=1)\n",
    "plt.title('Cost function', fontsize=17)\n",
    "plt.xlabel('x', fontsize=16)\n",
    "plt.ylabel('f(x)', fontsize=16)\n",
    "plt.xlim(-3, 3)\n",
    "plt.ylim(0, 8)\n",
    "plt.scatter(x_list, f(values), color='red', s=100, alpha=0.6)\n",
    "\n",
    "plt.subplot(1, 3, 3)\n",
    "plt.plot(x_1, df(x_1), color='skyblue', linewidth=1)\n",
    "plt.title('Slope of the cost function', fontsize=17)\n",
    "plt.xlabel('x', fontsize=16)\n",
    "plt.ylabel('df(x)', fontsize=16)\n",
    "plt.xlim(-2, 3)\n",
    "plt.ylim(-3, 6)\n",
    "plt.scatter(x_list, slope_list, color='red', s=100, alpha=0.6)\n",
    "\n",
    "plt.show()"
   ],
   "outputs": [],
   "execution_count": null
  },
  {
   "cell_type": "code",
   "metadata": {},
   "source": [
    "def g(x):\n",
    "    return x**4 - (4*(x**2)) + 5"
   ],
   "outputs": [],
   "execution_count": null
  },
  {
   "metadata": {},
   "cell_type": "code",
   "source": [
    "def dg(x):\n",
    "    return 4*x**3 - 8*x"
   ],
   "outputs": [],
   "execution_count": null
  },
  {
   "metadata": {},
   "cell_type": "code",
   "source": "x_2 = np.linspace(start=-2, stop=2, num=1000)",
   "outputs": [],
   "execution_count": null
  },
  {
   "metadata": {},
   "cell_type": "code",
   "source": "x_2",
   "outputs": [],
   "execution_count": null
  },
  {
   "metadata": {},
   "cell_type": "code",
   "source": [
    "plt.figure(figsize=[15.0, 5.0])\n",
    "\n",
    "# Plotting cost function -> f(x)\n",
    "plt.subplot(1, 2, 1)\n",
    "plt.plot(x_2, g(x_2), color='blue', linewidth=1)\n",
    "plt.title('Cost function', fontsize=17)\n",
    "plt.xlabel('x', fontsize=16)\n",
    "plt.ylabel('g(x)', fontsize=16)\n",
    "plt.scatter(x_list, g(np.array(x_list)), color='red', s=100, alpha=0.6)\n",
    "\n",
    "# Plotting derivative to the cost function -> Slope\n",
    "plt.subplot(1, 2, 2)\n",
    "\n",
    "plt.plot(x_2, dg(x_2), color='skyblue', linewidth=1)\n",
    "plt.title('Slope of the cost function', fontsize=17)\n",
    "plt.xlabel('x', fontsize=16)\n",
    "plt.ylabel('dg(x)', fontsize=16)\n",
    "\n",
    "plt.show()"
   ],
   "outputs": [],
   "execution_count": null
  },
  {
   "metadata": {},
   "cell_type": "code",
   "source": [
    "def gradient_descent(derivative_function, initial_guess, learning_rate=0.02, precision=0.001, max_iteration=500):\n",
    "    new_x = initial_guess\n",
    "    x_2_list = [new_x]\n",
    "    slope_2_list = [derivative_function(new_x)]\n",
    "    for i in range(max_iteration):\n",
    "        temporary_value = new_x\n",
    "        new_x = temporary_value - learning_rate * derivative_function(temporary_value)\n",
    "        x_2_list.append(new_x)\n",
    "        slope_2_list.append(derivative_function(new_x))\n",
    "        if abs(new_x - temporary_value) < precision:\n",
    "            print(\"Local minimum is at: \", new_x)\n",
    "            print(\"Number of steps: \", i)\n",
    "            print(\"Cost at minimum: \", f(new_x))\n",
    "            break\n",
    "    return new_x, x_2_list, slope_2_list"
   ],
   "outputs": [],
   "execution_count": null
  },
  {
   "metadata": {},
   "cell_type": "code",
   "source": [
    "local_minimum, list_x, derivative_list = gradient_descent(dg, -0.1)\n",
    "print(F\"Number of steps: {len(list_x)}\")"
   ],
   "outputs": [],
   "execution_count": null
  },
  {
   "metadata": {},
   "cell_type": "code",
   "source": [
    "print(\"The local minimum occurs at: \", starting_point)\n",
    "print(\"The cost is: \", f(starting_point))\n",
    "print(\"The slope is: \", df(starting_point))"
   ],
   "outputs": [],
   "execution_count": null
  },
  {
   "metadata": {},
   "cell_type": "code",
   "source": [
    "local_minimum, list_x, derivative_list = gradient_descent(dg, 0.1)\n",
    "\n",
    "\n",
    "plt.figure(figsize=[15.0, 5.0])\n",
    "\n",
    "# Plotting cost function -> f(x)\n",
    "plt.subplot(1, 2, 1)\n",
    "plt.plot(x_2, g(x_2), color='blue', linewidth=1)\n",
    "plt.title('Cost function', fontsize=17)\n",
    "plt.xlabel('x', fontsize=16)\n",
    "plt.ylabel('g(x)', fontsize=16)\n",
    "plt.scatter(list_x, g(np.array(list_x)), color='red', s=100, alpha=0.6)\n",
    "\n",
    "# Plotting derivative to the cost function -> Slope\n",
    "plt.subplot(1, 2, 2)\n",
    "\n",
    "plt.plot(x_2, dg(x_2), color='skyblue', linewidth=1)\n",
    "plt.title('Slope of the cost function', fontsize=17)\n",
    "plt.xlabel('x', fontsize=16)\n",
    "plt.ylabel('dg(x)', fontsize=16)\n",
    "plt.scatter(list_x, derivative_list, color='red', s=100, alpha=0.6)\n",
    "\n",
    "plt.show()"
   ],
   "outputs": [],
   "execution_count": null
  },
  {
   "metadata": {},
   "cell_type": "code",
   "source": "x_3 = np.linspace(start=-2.5, stop=2.5, num=1000)",
   "outputs": [],
   "execution_count": null
  },
  {
   "metadata": {},
   "cell_type": "code",
   "source": [
    "def h(x):\n",
    "    return x**5 - 2*x**4 + 2"
   ],
   "outputs": [],
   "execution_count": null
  },
  {
   "metadata": {},
   "cell_type": "code",
   "source": [
    "def dh(x):\n",
    "    return 5*x**4 - 8*x**3"
   ],
   "outputs": [],
   "execution_count": null
  },
  {
   "metadata": {},
   "cell_type": "code",
   "source": [
    "local_minimum, list_x, derivative_list = gradient_descent(derivative_function=dh, initial_guess=0.2, max_iteration=700)\n",
    "\n",
    "\n",
    "plt.figure(figsize=[15.0, 5.0])\n",
    "\n",
    "# Plotting cost function -> f(x)\n",
    "plt.subplot(1, 2, 1)\n",
    "plt.xlim(-1.2, 2.5)\n",
    "plt.ylim(-1, 4)\n",
    "plt.plot(x_3, h(x_3), color='blue', linewidth=1)\n",
    "plt.title('Cost function', fontsize=17)\n",
    "plt.xlabel('x', fontsize=16)\n",
    "plt.ylabel('h(x)', fontsize=16)\n",
    "plt.scatter(list_x, h(np.array(list_x)), color='red', s=100, alpha=0.6)\n",
    "\n",
    "# Plotting derivative to the cost function -> Slope\n",
    "plt.subplot(1, 2, 2)\n",
    "plt.xlim(-1, 2)\n",
    "plt.ylim(-4, 5)\n",
    "plt.plot(x_3, dh(x_3), color='skyblue', linewidth=1)\n",
    "plt.title('Slope of the cost function', fontsize=17)\n",
    "plt.xlabel('x', fontsize=16)\n",
    "plt.ylabel('dh(x)', fontsize=16)\n",
    "plt.scatter(list_x, derivative_list, color='red', s=100, alpha=0.6)\n",
    "\n",
    "plt.show()"
   ],
   "outputs": [],
   "execution_count": null
  },
  {
   "metadata": {},
   "cell_type": "markdown",
   "source": "## Learning Rate"
  },
  {
   "metadata": {},
   "cell_type": "code",
   "source": [
    "local_minimum, list_x, derivative_list = gradient_descent(dg, initial_guess=1.9, learning_rate=0.003)\n",
    "\n",
    "\n",
    "plt.figure(figsize=[15.0, 5.0])\n",
    "\n",
    "# Plotting cost function -> f(x)\n",
    "plt.subplot(1, 2, 1)\n",
    "plt.plot(x_2, g(x_2), color='blue', linewidth=1)\n",
    "plt.title('Cost function', fontsize=17)\n",
    "plt.xlabel('x', fontsize=16)\n",
    "plt.ylabel('g(x)', fontsize=16)\n",
    "plt.scatter(list_x, g(np.array(list_x)), color='red', s=100, alpha=0.6)\n",
    "\n",
    "# Plotting derivative to the cost function -> Slope\n",
    "plt.subplot(1, 2, 2)\n",
    "\n",
    "plt.plot(x_2, dg(x_2), color='skyblue', linewidth=1)\n",
    "plt.title('Slope of the cost function', fontsize=17)\n",
    "plt.xlabel('x', fontsize=16)\n",
    "plt.ylabel('dg(x)', fontsize=16)\n",
    "plt.scatter(list_x, derivative_list, color='red', s=100, alpha=0.6)\n",
    "\n",
    "plt.show()\n",
    "\n",
    "print(F\"Number of Steps: {len(list_x)}\")"
   ],
   "outputs": [],
   "execution_count": null
  },
  {
   "metadata": {},
   "cell_type": "code",
   "source": [
    "# Gradient descent, fixed amount of times\n",
    "max_iter_limit = 5\n",
    "\n",
    "low_gamma = gradient_descent(dg, initial_guess=3, learning_rate=0.003, max_iteration=max_iter_limit)\n",
    "\n",
    "# Plotting reduction in cost per iteration\n",
    "plt.figure(figsize=[15.0, 5.0])\n",
    "\n",
    "plt.plot(x_2, g(x_2), color='blue', linewidth=1)\n",
    "plt.title('Cost function', fontsize=17)\n",
    "plt.xlabel('Number of Iterations', fontsize=16)\n",
    "plt.ylabel('Cost', fontsize=16)\n",
    "plt.scatter(list_x, g(np.array(list_x)), color='red', s=100, alpha=0.6)"
   ],
   "outputs": [],
   "execution_count": null
  },
  {
   "metadata": {},
   "cell_type": "code",
   "source": "",
   "outputs": [],
   "execution_count": null
  }
 ],
 "metadata": {
  "kernelspec": {
   "display_name": ".venv",
   "language": "python",
   "name": "python3"
  },
  "language_info": {
   "codemirror_mode": {
    "name": "ipython",
    "version": 3
   },
   "file_extension": ".py",
   "mimetype": "text/x-python",
   "name": "python",
   "nbconvert_exporter": "python",
   "pygments_lexer": "ipython3",
   "version": "3.12.4"
  }
 },
 "nbformat": 4,
 "nbformat_minor": 2
}
