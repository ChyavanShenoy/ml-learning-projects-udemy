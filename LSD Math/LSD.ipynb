{
 "cells": [
  {
   "cell_type": "code",
   "execution_count": null,
   "metadata": {},
   "outputs": [],
   "source": [
    "import pandas as pd\n",
    "import matplotlib.pyplot as plt\n",
    "from sklearn.linear_model import LinearRegression\n",
    "from matplotlib.colors import ListedColormap"
   ]
  },
  {
   "cell_type": "code",
   "execution_count": null,
   "metadata": {},
   "outputs": [],
   "source": [
    "data = pd.read_csv('./lsd_math_score_data.csv')"
   ]
  },
  {
   "cell_type": "code",
   "execution_count": null,
   "metadata": {},
   "outputs": [],
   "source": [
    "data.head()"
   ]
  },
  {
   "cell_type": "code",
   "execution_count": null,
   "metadata": {},
   "outputs": [],
   "source": [
    "cleaned_data = data[['LSD_ppm', 'Avg_Math_Test_Score', 'Time_Delay_in_Minutes']]"
   ]
  },
  {
   "cell_type": "code",
   "execution_count": null,
   "metadata": {},
   "outputs": [],
   "source": [
    "time_delay = cleaned_data['Time_Delay_in_Minutes']\n",
    "time_delay_dataframe = pd.DataFrame(time_delay, columns=['Time_Delay_in_Minutes'])\n",
    "lsd_ppm = cleaned_data['LSD_ppm']\n",
    "lsd_ppm_dataframe = pd.DataFrame(lsd_ppm, columns=['LSD_ppm'])\n",
    "avg_math_score = cleaned_data['Avg_Math_Test_Score']\n",
    "avg_math_score_dataframe = pd.DataFrame(avg_math_score, columns=['Avg_Math_Test_Score'])"
   ]
  },
  {
   "cell_type": "code",
   "execution_count": null,
   "metadata": {},
   "outputs": [],
   "source": [
    "%matplotlib inline\n",
    "\n",
    "plt.plot(time_delay, lsd_ppm, color='r', linewidth=2)\n",
    "plt.title('Tissue concentration of LSD over time', fontsize=17)\n",
    "plt.xlabel('Time in Minutes', fontsize=14)\n",
    "plt.ylabel('Tissue LSD ppm', fontsize=14)\n",
    "plt.text(x=0, y=-1, s='Wagner et al. (1968)', fontsize=12)\n",
    "plt.xticks(fontsize=14)\n",
    "plt.yticks(fontsize=14)\n",
    "plt.grid(True)\n",
    "plt.style.use('ggplot')\n",
    "plt.show()"
   ]
  },
  {
   "cell_type": "code",
   "execution_count": null,
   "metadata": {},
   "outputs": [],
   "source": [
    "regression = LinearRegression()"
   ]
  },
  {
   "cell_type": "code",
   "execution_count": null,
   "metadata": {},
   "outputs": [],
   "source": [
    "regression.fit(lsd_ppm_dataframe, avg_math_score_dataframe)"
   ]
  },
  {
   "cell_type": "code",
   "execution_count": null,
   "metadata": {},
   "outputs": [],
   "source": [
    "predicted_math_score = regression.predict(lsd_ppm_dataframe)"
   ]
  },
  {
   "cell_type": "code",
   "execution_count": null,
   "metadata": {},
   "outputs": [],
   "source": [
    "print('Theta1: ', regression.coef_[0][0])\n",
    "print('Intercept: ', regression.intercept_[0])\n",
    "print('R-Squared: ', regression.score(lsd_ppm_dataframe, avg_math_score_dataframe))"
   ]
  },
  {
   "cell_type": "code",
   "execution_count": null,
   "metadata": {},
   "outputs": [],
   "source": [
    "listed_colormaps = ListedColormap([\"darkorange\", \"gold\", \"lawngreen\", \"lightseagreen\"])\n",
    "plt.scatter(lsd_ppm, avg_math_score, c=avg_math_score, cmap=listed_colormaps, s=100, alpha=0.5)\n",
    "plt.plot(lsd_ppm, predicted_math_score, color='red', linewidth=2)\n",
    "plt.scatter(lsd_ppm, predicted_math_score, color='blue', s=100, alpha=0.8)\n",
    "plt.title('Math vs LSD', fontsize=17)\n",
    "plt.xlabel('Tissue-LSD ppm', fontsize=14)\n",
    "plt.ylabel('Test Scores', fontsize=14)\n",
    "plt.xticks(fontsize=14)\n",
    "plt.yticks(fontsize=14)\n",
    "plt.grid(True)\n",
    "plt.show()"
   ]
  },
  {
   "cell_type": "code",
   "execution_count": null,
   "metadata": {},
   "outputs": [],
   "source": [
    "predicted_math_score"
   ]
  },
  {
   "cell_type": "code",
   "execution_count": null,
   "metadata": {},
   "outputs": [],
   "source": []
  }
 ],
 "metadata": {
  "kernelspec": {
   "display_name": ".venv",
   "language": "python",
   "name": "python3"
  },
  "language_info": {
   "codemirror_mode": {
    "name": "ipython",
    "version": 3
   },
   "file_extension": ".py",
   "mimetype": "text/x-python",
   "name": "python",
   "nbconvert_exporter": "python",
   "pygments_lexer": "ipython3",
   "version": "3.12.4"
  }
 },
 "nbformat": 4,
 "nbformat_minor": 2
}
